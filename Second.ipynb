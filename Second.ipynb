{
 "cells": [
  {
   "cell_type": "code",
   "execution_count": 1,
   "id": "9e3fdcf4",
   "metadata": {},
   "outputs": [],
   "source": [
    "import cv2\n",
    "import pytesseract\n",
    "import json\n",
    "\n",
    "# Path to the Tesseract \n",
    "pytesseract.pytesseract.tesseract_cmd = r'/opt/homebrew/bin/tesseract'\n",
    "\n",
    "\n",
    "\n"
   ]
  },
  {
   "cell_type": "code",
   "execution_count": 2,
   "id": "083add68",
   "metadata": {},
   "outputs": [],
   "source": [
    "#pip install opencv-python pytesseract"
   ]
  },
  {
   "cell_type": "code",
   "execution_count": 10,
   "id": "b94de2d9",
   "metadata": {},
   "outputs": [
    {
     "name": "stdout",
     "output_type": "stream",
     "text": [
      "Text extraction completed successfully.\n",
      "Extracted text saved to aadhar_text.json\n"
     ]
    }
   ],
   "source": [
    "def extract_text_from_image(image_path):\n",
    "    # Loading the image using OpenCV\n",
    "    image = cv2.imread('/Users/amitpandey/Desktop/Screenshot 2023-07-06 at 12.07.11 PM.png')\n",
    "\n",
    "    if image is None:\n",
    "        raise Exception(\"Failed to load the image.\")\n",
    "\n",
    "    # Perform OCR on the image using pytesseract with hocr output\n",
    "    hocr_data = pytesseract.image_to_data(image, lang='eng', output_type=pytesseract.Output.DICT)\n",
    "\n",
    "    # Filter out non-text regions and create a list of detected words\n",
    "    words = []\n",
    "    for i in range(len(hocr_data['text'])):\n",
    "        if int(hocr_data['conf'][i]) > 0:\n",
    "            word = {\n",
    "                'text': hocr_data['text'][i],\n",
    "                #'x': int(hocr_data['left'][i]),\n",
    "                #'y': int(hocr_data['top'][i]),\n",
    "                #'right': int(hocr_data['right'][i]),\n",
    "                #'bottom': int(hocr_data['bottom'][i])\n",
    "                #ROI(range of interest)\n",
    "            }\n",
    "            words.append(word)\n",
    "            #left, top, right, bottom\n",
    "\n",
    "    return words\n",
    "\n",
    "if __name__ == \"__main__\":\n",
    "    # Replace 'aadhar_card.jpg' with the path to your Aadhar card image\n",
    "    input_image = '/Users/amitpandey/Downloads/AADHAR1.png'\n",
    "\n",
    "    try:\n",
    "        # Extract text from the Aadhar card image\n",
    "        extracted_text = extract_text_from_image(input_image)\n",
    "\n",
    "        # Save the extracted text to a JSON file\n",
    "        output_file = 'aadhar_text.json'  # Replace with your desired output file name\n",
    "        with open(output_file, 'w') as file:\n",
    "            json.dump(extracted_text, file, indent=4)\n",
    "\n",
    "        print(\"Text extraction completed successfully.\")\n",
    "        print(\"Extracted text saved to\", output_file)\n",
    "    except Exception as e:\n",
    "        print(f\"Error: {str(e)}\")"
   ]
  },
  {
   "cell_type": "code",
   "execution_count": 11,
   "id": "1bd9f4b6",
   "metadata": {},
   "outputs": [
    {
     "name": "stdout",
     "output_type": "stream",
     "text": [
      "[{'text': 'Issue'}, {'text': 'Date:'}, {'text': '06/12/2012'}, {'text': 'afte'}, {'text': 'Amit'}, {'text': 'Pandey'}, {'text': '‘arr'}, {'text': '26/06/2001'}, {'text': 'ey'}, {'text': 'MALE'}, {'text': '5426'}, {'text': '4595'}, {'text': '6856'}, {'text': 'VID'}, {'text': ':'}, {'text': '9185'}, {'text': '4494'}, {'text': '5889'}, {'text': '3023'}, {'text': ' '}, {'text': 'a'}, {'text': '‘oer'}, {'text': 'ate,'}, {'text': 'FE'}, {'text': 'oes'}, {'text': 'Sag'}, {'text': 'ee,'}, {'text': 'Ea'}, {'text': 'a'}, {'text': 'YANANT'}, {'text': 'PANDEY,'}, {'text': 'KH'}, {'text': 'NO-70,'}, {'text': 'OLD'}, {'text': 'CHOPAL'}, {'text': 'MOHALLA,'}, {'text': 'DWARKA'}, {'text': 'SECTOR-26,'}, {'text': 'Barthal,'}, {'text': 'South'}, {'text': 'West'}, {'text': 'Delhi,'}, {'text': 'Delhi'}, {'text': '-'}, {'text': '110077'}, {'text': ' '}, {'text': '5426'}, {'text': '4595'}, {'text': '6856'}, {'text': 'VID'}, {'text': ':'}, {'text': '9185'}, {'text': '4494'}, {'text': '5889'}, {'text': '3023'}]\n"
     ]
    }
   ],
   "source": [
    "import json\n",
    "\n",
    "# Replace 'data.json' with the path to your JSON file\n",
    "json_file = '/Users/amitpandey/aadhar_text.json'\n",
    "\n",
    "#try:\n",
    "    # Read the JSON file\n",
    "with open(json_file, 'r') as file:\n",
    "        data = json.load(file)\n",
    "\n",
    "    # Access the data in the JSON file\n",
    "    # For example, if the JSON contains a list of objects\n",
    "#for item in data:\n",
    "        print(data)\n"
   ]
  },
  {
   "cell_type": "code",
   "execution_count": 12,
   "id": "7c894882",
   "metadata": {},
   "outputs": [],
   "source": [
    "#left, top, right, bottom\n"
   ]
  },
  {
   "cell_type": "code",
   "execution_count": 6,
   "id": "72ff6281",
   "metadata": {},
   "outputs": [
    {
     "name": "stdout",
     "output_type": "stream",
     "text": [
      "The extracted text does not match the original text.\n"
     ]
    }
   ],
   "source": [
    "import json\n",
    "\n",
    "# Read the JSON file\n",
    "with open('/Users/amitpandey/aadhar_text.json', 'r') as file:\n",
    "    json_data = json.load(file)\n",
    "\n",
    "# Extract the text from the JSON\n",
    "extracted_words = [item['text'] for item in json_data]\n",
    "\n",
    "# Original text for comparison\n",
    "original_text = '06/12/2012'\n",
    "\n",
    "\n",
    "\n",
    "\n",
    "# Join the extracted words into a single string\n",
    "extracted_text = ' '.join(extracted_words)\n",
    "\n",
    "# Compare the extracted text with the original text\n",
    "if extracted_text.strip() == original_text.strip():\n",
    "    print(\"The extracted text matches the original text.\")\n",
    "else:\n",
    "    print(\"The extracted text does not match the original text.\")"
   ]
  },
  {
   "cell_type": "code",
   "execution_count": 7,
   "id": "004451b8",
   "metadata": {},
   "outputs": [
    {
     "name": "stdout",
     "output_type": "stream",
     "text": [
      "Issue Date: 06/12/2012 afte Amit Pandey ‘arr 26/06/2001 ey MALE 5426 4595 6856 VID : 9185 4494 5889 3023   a ‘oer ate, FE oes Sag ee, Ea a YANANT PANDEY, KH NO-70, OLD CHOPAL MOHALLA, DWARKA SECTOR-26, Barthal, South West Delhi, Delhi - 110077   5426 4595 6856 VID : 9185 4494 5889 3023\n"
     ]
    }
   ],
   "source": [
    "print(extracted_text)"
   ]
  },
  {
   "cell_type": "code",
   "execution_count": 8,
   "id": "9c8b7726",
   "metadata": {},
   "outputs": [
    {
     "name": "stdout",
     "output_type": "stream",
     "text": [
      "06/12/2012\n"
     ]
    }
   ],
   "source": [
    "print(original_text)"
   ]
  },
  {
   "cell_type": "raw",
   "id": "34b4c1dd",
   "metadata": {},
   "source": [
    "#Even though i was able to extract text, im fininding difficulties in comparing the original text with the extracted text or json key values."
   ]
  },
  {
   "cell_type": "markdown",
   "id": "8500cc52",
   "metadata": {},
   "source": []
  },
  {
   "cell_type": "code",
   "execution_count": null,
   "id": "1851f522",
   "metadata": {},
   "outputs": [],
   "source": []
  },
  {
   "cell_type": "raw",
   "id": "d5be2240",
   "metadata": {},
   "source": [
    "I even took the apporach of specifiying roi (range of interest) out of Aadhaar card image but getting that paticular ROI was quite difficult so i dropped that idea\n"
   ]
  },
  {
   "cell_type": "raw",
   "id": "472d84f6",
   "metadata": {},
   "source": [
    "another approach was to manually put the information into the json file but it wont be of any use as our objective is to extract inofmration out of image."
   ]
  },
  {
   "cell_type": "code",
   "execution_count": null,
   "id": "6593613e",
   "metadata": {},
   "outputs": [],
   "source": []
  }
 ],
 "metadata": {
  "kernelspec": {
   "display_name": "Python 3 (ipykernel)",
   "language": "python",
   "name": "python3"
  },
  "language_info": {
   "codemirror_mode": {
    "name": "ipython",
    "version": 3
   },
   "file_extension": ".py",
   "mimetype": "text/x-python",
   "name": "python",
   "nbconvert_exporter": "python",
   "pygments_lexer": "ipython3",
   "version": "3.11.4"
  }
 },
 "nbformat": 4,
 "nbformat_minor": 5
}
